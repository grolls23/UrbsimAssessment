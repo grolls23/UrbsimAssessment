{
 "cells": [
  {
   "cell_type": "markdown",
   "id": "18a7d3dc",
   "metadata": {},
   "source": [
    "CASA 0002 - Urban Simulation\n",
    "Final Asssessment - London Underground Resilience\n",
    "Gavin Rolls\n",
    "9 February 2024"
   ]
  },
  {
   "cell_type": "markdown",
   "id": "aed45069",
   "metadata": {},
   "source": [
    "Environment Setup"
   ]
  },
  {
   "cell_type": "code",
   "execution_count": 1,
   "id": "bd6e50b6",
   "metadata": {},
   "outputs": [],
   "source": [
    "import pandas as pd\n",
    "import matplotlib.pyplot as plt\n",
    "import geopandas as gpd"
   ]
  },
  {
   "cell_type": "markdown",
   "id": "bb6f988e",
   "metadata": {},
   "source": [
    "Part II - Spatial Interaction Models"
   ]
  },
  {
   "cell_type": "code",
   "execution_count": null,
   "id": "36f183fb",
   "metadata": {},
   "outputs": [],
   "source": []
  },
  {
   "cell_type": "markdown",
   "id": "3d5916e6",
   "metadata": {},
   "source": [
    "Data Loading & Preprocessing"
   ]
  },
  {
   "cell_type": "code",
   "execution_count": null,
   "id": "f091392c",
   "metadata": {},
   "outputs": [],
   "source": []
  }
 ],
 "metadata": {
  "kernelspec": {
   "display_name": "urbsim",
   "language": "python",
   "name": "urbsim"
  },
  "language_info": {
   "codemirror_mode": {
    "name": "ipython",
    "version": 3
   },
   "file_extension": ".py",
   "mimetype": "text/x-python",
   "name": "python",
   "nbconvert_exporter": "python",
   "pygments_lexer": "ipython3",
   "version": "3.11.7"
  }
 },
 "nbformat": 4,
 "nbformat_minor": 5
}
