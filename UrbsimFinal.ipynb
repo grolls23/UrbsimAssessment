{
 "cells": [
  {
   "cell_type": "markdown",
   "id": "18a7d3dc",
   "metadata": {},
   "source": [
    "CASA 0002 - Urban Simulation\n",
    "Final Asssessment - London Underground Resilience\n",
    "Gavin Rolls\n",
    "9 February 2024"
   ]
  },
  {
   "cell_type": "markdown",
   "id": "aed45069",
   "metadata": {},
   "source": [
    "Environment Setup"
   ]
  },
  {
   "cell_type": "code",
   "execution_count": 10,
   "id": "bd6e50b6",
   "metadata": {},
   "outputs": [],
   "source": [
    "import pandas as pd\n",
    "import matplotlib.pyplot as plt\n",
    "import statsmodels.api as sm\n",
    "import statsmodels.formula.api as smf"
   ]
  },
  {
   "cell_type": "markdown",
   "id": "da1d22ae",
   "metadata": {},
   "source": [
    "# Part II - Spatial Interaction Models"
   ]
  },
  {
   "cell_type": "markdown",
   "id": "3d5916e6",
   "metadata": {},
   "source": [
    "Data Loading & Preprocessing"
   ]
  },
  {
   "cell_type": "code",
   "execution_count": 11,
   "id": "f091392c",
   "metadata": {},
   "outputs": [
    {
     "data": {
      "text/html": [
       "<div>\n",
       "<style scoped>\n",
       "    .dataframe tbody tr th:only-of-type {\n",
       "        vertical-align: middle;\n",
       "    }\n",
       "\n",
       "    .dataframe tbody tr th {\n",
       "        vertical-align: top;\n",
       "    }\n",
       "\n",
       "    .dataframe thead th {\n",
       "        text-align: right;\n",
       "    }\n",
       "</style>\n",
       "<table border=\"1\" class=\"dataframe\">\n",
       "  <thead>\n",
       "    <tr style=\"text-align: right;\">\n",
       "      <th></th>\n",
       "      <th>station_origin</th>\n",
       "      <th>station_destination</th>\n",
       "      <th>flows</th>\n",
       "      <th>population</th>\n",
       "      <th>jobs</th>\n",
       "      <th>distance</th>\n",
       "    </tr>\n",
       "  </thead>\n",
       "  <tbody>\n",
       "    <tr>\n",
       "      <th>0</th>\n",
       "      <td>Abbey Road</td>\n",
       "      <td>Bank and Monument</td>\n",
       "      <td>0</td>\n",
       "      <td>599</td>\n",
       "      <td>78549</td>\n",
       "      <td>8131.525097</td>\n",
       "    </tr>\n",
       "    <tr>\n",
       "      <th>1</th>\n",
       "      <td>Abbey Road</td>\n",
       "      <td>Beckton</td>\n",
       "      <td>1</td>\n",
       "      <td>599</td>\n",
       "      <td>442</td>\n",
       "      <td>8510.121774</td>\n",
       "    </tr>\n",
       "    <tr>\n",
       "      <th>2</th>\n",
       "      <td>Abbey Road</td>\n",
       "      <td>Blackwall</td>\n",
       "      <td>3</td>\n",
       "      <td>599</td>\n",
       "      <td>665</td>\n",
       "      <td>3775.448872</td>\n",
       "    </tr>\n",
       "    <tr>\n",
       "      <th>3</th>\n",
       "      <td>Abbey Road</td>\n",
       "      <td>Canary Wharf</td>\n",
       "      <td>1</td>\n",
       "      <td>599</td>\n",
       "      <td>58772</td>\n",
       "      <td>5086.514220</td>\n",
       "    </tr>\n",
       "    <tr>\n",
       "      <th>4</th>\n",
       "      <td>Abbey Road</td>\n",
       "      <td>Canning Town</td>\n",
       "      <td>37</td>\n",
       "      <td>599</td>\n",
       "      <td>15428</td>\n",
       "      <td>2228.923167</td>\n",
       "    </tr>\n",
       "  </tbody>\n",
       "</table>\n",
       "</div>"
      ],
      "text/plain": [
       "  station_origin station_destination  flows  population   jobs     distance\n",
       "0     Abbey Road   Bank and Monument      0         599  78549  8131.525097\n",
       "1     Abbey Road             Beckton      1         599    442  8510.121774\n",
       "2     Abbey Road           Blackwall      3         599    665  3775.448872\n",
       "3     Abbey Road        Canary Wharf      1         599  58772  5086.514220\n",
       "4     Abbey Road        Canning Town     37         599  15428  2228.923167"
      ]
     },
     "execution_count": 11,
     "metadata": {},
     "output_type": "execute_result"
    }
   ],
   "source": [
    "#Reading in flows\n",
    "flows = pd.read_csv(\"./Data/london_flows.csv\")\n",
    "\n",
    "#Check data loaded\n",
    "flows.head()"
   ]
  },
  {
   "cell_type": "markdown",
   "id": "3d89113c",
   "metadata": {},
   "source": [
    "Set up Doubly Constrained Model with Exponential Decay"
   ]
  },
  {
   "cell_type": "code",
   "execution_count": null,
   "id": "48f006cc",
   "metadata": {},
   "outputs": [],
   "source": [
    "#Formula for doubly constrained equation\n",
    "eq_form = 'Total ~ station_destination + station_origin + distance-1'\n",
    "\n",
    "#Doubly Constrained Model with smf\n",
    "sim = smf.glm(formula = eq_form, data = flows, f)"
   ]
  }
 ],
 "metadata": {
  "kernelspec": {
   "display_name": "urbsim",
   "language": "python",
   "name": "urbsim"
  },
  "language_info": {
   "codemirror_mode": {
    "name": "ipython",
    "version": 3
   },
   "file_extension": ".py",
   "mimetype": "text/x-python",
   "name": "python",
   "nbconvert_exporter": "python",
   "pygments_lexer": "ipython3",
   "version": "3.11.7"
  }
 },
 "nbformat": 4,
 "nbformat_minor": 5
}
