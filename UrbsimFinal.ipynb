{
 "cells": [
  {
   "cell_type": "markdown",
   "id": "be24284f",
   "metadata": {},
   "source": [
    "CASA 0002 Urban \n",
    "\n",
    "This is the notebook for "
   ]
  },
  {
   "cell_type": "code",
   "execution_count": null,
   "id": "ff83af10",
   "metadata": {},
   "outputs": [],
   "source": []
  }
 ],
 "metadata": {
  "kernelspec": {
   "display_name": "urbsim",
   "language": "python",
   "name": "urbsim"
  },
  "language_info": {
   "codemirror_mode": {
    "name": "ipython",
    "version": 3
   },
   "file_extension": ".py",
   "mimetype": "text/x-python",
   "name": "python",
   "nbconvert_exporter": "python",
   "pygments_lexer": "ipython3",
   "version": "3.11.7"
  }
 },
 "nbformat": 4,
 "nbformat_minor": 5
}
